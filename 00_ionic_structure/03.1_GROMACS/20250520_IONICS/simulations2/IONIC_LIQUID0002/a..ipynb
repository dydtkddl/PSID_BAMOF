{
 "cells": [
  {
   "cell_type": "code",
   "execution_count": null,
   "id": "0c0db8b8",
   "metadata": {},
   "outputs": [],
   "source": [
    "import pandas as pd \n",
    "\n",
    "with open(\"./coords_xtc_dump.txt\" , \"r\") as f:\n",
    "    data = f.readlines()\n",
    "strt_idxs = [ i for i, d in enumerate(data)  if \"coords.xtc\" in d] \n",
    "trjs = []\n",
    "for i, strt in enumerate(strt_idxs):\n",
    "    try: \n",
    "        trjs.append(data[strt_idxs[i] : strt_idxs[i+1]])\n",
    "    except: \n",
    "        trjs.append(data[strt_idxs[i] : ])\n",
    "boxes = []\n",
    "coords = []\n",
    "for trj in trjs:\n",
    "    box = trj[3:6]\n",
    "    coord = trj[7:]\n",
    "    newcoord = []   \n",
    "    for i in coord:\n",
    "        xyz = [ float(x.strip()) for x in i.split(\"{\")[1].split(\"}\")[0].split(\",\")]\n",
    "        newcoord.append(xyz)\n",
    "    coords.append(newcoord)\n",
    "\n",
    "    newbox = []\n",
    "    for i in box: \n",
    "        boxvec = [ float(x.strip()) for x in i.split(\"{\")[1].split(\"}\")[0].split(\",\")]\n",
    "        newbox.append(boxvec)\n",
    "    boxes.append(newbox)\n"
   ]
  },
  {
   "cell_type": "code",
   "execution_count": 72,
   "id": "a8b6f29e",
   "metadata": {},
   "outputs": [
    {
     "data": {
      "application/vnd.plotly.v1+json": {
       "config": {
        "plotlyServerURL": "https://plot.ly"
       },
       "data": [
        {
         "marker": {
          "color": "#1f77b4",
          "size": 4
         },
         "mode": "markers",
         "name": "Anion (Before)",
         "scene": "scene",
         "type": "scatter3d",
         "x": [
          3.603,
          3.69,
          3.806,
          3.753,
          3.632,
          3.885,
          3.942,
          3.918,
          3.581,
          3.492,
          3.652,
          3.617,
          3.692,
          3.703,
          3.874
         ],
         "y": [
          3.298,
          3.539,
          3.196,
          3.395,
          3.222,
          3.717,
          3.529,
          3.529,
          3.162,
          3.38,
          3.612,
          3.569,
          3.374,
          3.277,
          3.58
         ],
         "z": [
          3.72,
          3.848,
          3.601,
          3.538,
          3.473,
          3.885,
          3.765,
          3.987,
          3.764,
          3.68,
          3.723,
          3.969,
          3.83,
          3.574,
          3.873
         ]
        },
        {
         "marker": {
          "color": "#ff7f0e",
          "size": 4
         },
         "mode": "markers",
         "name": "Cation (Before)",
         "scene": "scene",
         "type": "scatter3d",
         "x": [
          3.355,
          3.362,
          3.331,
          3.182,
          3.149,
          3.349,
          3.37,
          3.368,
          3.185,
          3.363,
          3.394,
          3.373,
          3.157,
          3.107,
          3.198,
          3.045,
          3.351,
          3.379,
          3.381,
          3.292,
          3.148,
          3.139,
          3.323,
          3.47,
          3.325
         ],
         "y": [
          3.726,
          3.709,
          3.697,
          3.694,
          3.669,
          3.64,
          3.855,
          3.845,
          3.783,
          3.653,
          3.767,
          3.598,
          3.8,
          3.634,
          3.576,
          3.637,
          3.532,
          3.941,
          3.913,
          3.787,
          3.882,
          3.753,
          3.551,
          3.638,
          3.719
         ],
         "z": [
          3.78,
          4.002,
          3.636,
          3.589,
          3.44,
          3.89,
          3.83,
          3.969,
          3.335,
          4.142,
          3.581,
          3.613,
          3.602,
          3.643,
          3.412,
          3.428,
          3.884,
          3.764,
          4.052,
          3.313,
          3.363,
          3.24,
          4.141,
          4.164,
          4.22
         ]
        },
        {
         "color": "cyan",
         "i": [
          0
         ],
         "j": [
          1
         ],
         "k": [
          2
         ],
         "name": "Triangle",
         "opacity": 0.4,
         "scene": "scene",
         "type": "mesh3d",
         "x": [
          3.603,
          3.69,
          3.692
         ],
         "y": [
          3.298,
          3.539,
          3.374
         ],
         "z": [
          3.72,
          3.848,
          3.83
         ]
        },
        {
         "line": {
          "color": "red",
          "width": 6
         },
         "mode": "lines",
         "name": "Normal",
         "opacity": 0.5,
         "scene": "scene",
         "type": "scatter3d",
         "x": [
          3.6616666666666666,
          4.408388014893281
         ],
         "y": [
          3.4036666666666666,
          3.4847372361142233
         ],
         "z": [
          3.7993333333333332,
          3.1391554854225783
         ]
        },
        {
         "marker": {
          "color": "#1f77b4",
          "size": 4
         },
         "mode": "markers",
         "name": "Anion (After)",
         "scene": "scene2",
         "type": "scatter3d",
         "x": [
          0.16061444517850806,
          -0.08929458358530694,
          0.17789184508432673,
          0.1562437299590904,
          0.3496696697335108,
          -0.30691510931792715,
          -0.16735730070931873,
          -0.30609949152057053,
          0.20702372045705347,
          0.21071579186034922,
          -0.017171556374862892,
          -0.14590842046588023,
          0,
          0.2151300897101604,
          -0.22777527861420038
         ],
         "y": [
          -1.1102230246251563e-16,
          0.13992668559758906,
          -0.12746118936358505,
          0.08603590339539617,
          -0.0011605538145973424,
          0.21291966568191123,
          0.06403996124778259,
          0.004402115053075971,
          -0.12477893701933909,
          0.12510679299131314,
          0.256496270677145,
          0.1557827819605321,
          0,
          -0.0101842491057047,
          0.10048763239883221
         ],
         "z": [
          0,
          1.1102230246251563e-16,
          0.22187639950773158,
          0.24002441579016248,
          0.17855748425451398,
          0.135614643893157,
          0.24215783543522368,
          0.07767704084159731,
          -0.056501292413926416,
          -0.049831169042024656,
          0.06006497132590459,
          -0.13196006093431753,
          0,
          0.16935561865923274,
          0.12421617522327796
         ]
        },
        {
         "marker": {
          "color": "#ff7f0e",
          "size": 4
         },
         "mode": "markers",
         "name": "Cation (After)",
         "scene": "scene2",
         "type": "scatter3d",
         "x": [
          0.0544222531808085,
          -0.09345361174281573,
          0.1800647505139201,
          0.2962373648716276,
          0.428398578493529,
          0.023105020198372902,
          -0.049173659263476374,
          -0.1385305037493447,
          0.4264186818556731,
          -0.1633912813435527,
          0.1497001093100749,
          0.21938873530856456,
          0.2510297249739217,
          0.3292045117189443,
          0.4644289616484708,
          0.5093875579439321,
          0.07720974278631852,
          -0.04965306819779956,
          -0.23475472556714644,
          0.3803020328097676,
          0.3808997374551576,
          0.5311664209603445,
          -0.09227688072220362,
          -0.23065173222014218,
          -0.22698456517707116
         ],
         "y": [
          0.44818907964353943,
          0.362233254067411,
          0.47599074208815756,
          0.5426726990232452,
          0.5788364980504673,
          0.3410296824622704,
          0.5404119896770062,
          0.48950617290272996,
          0.6979789324115936,
          0.26956290295785856,
          0.5311810867676173,
          0.3807867351043976,
          0.6408469862350928,
          0.5009779191793798,
          0.48786255776598614,
          0.5927286100998664,
          0.24740392930045518,
          0.6328975032413001,
          0.5187764880285936,
          0.6689068011341989,
          0.7898013375492636,
          0.7178851120867454,
          0.19511056268333504,
          0.21025331581697482,
          0.3173841185657764
         ],
         "z": [
          -0.19009936151129164,
          -0.332809993990501,
          -0.11530611028356055,
          -0.19578244402586326,
          -0.12408451341482837,
          -0.2741713218433239,
          -0.2014493302246953,
          -0.29551819947521857,
          -0.018641825931019203,
          -0.42902812323884354,
          -0.026277943848863387,
          -0.07678570953140355,
          -0.2144393093929276,
          -0.29230038309689316,
          -0.07654975056884587,
          -0.19641565767778885,
          -0.27747243355974277,
          -0.14418503115605583,
          -0.3350927846024317,
          0.07610555326105449,
          -0.05672950918159701,
          0.0072937705186510975,
          -0.46650599740364807,
          -0.36486891017434525,
          -0.5035467490249544
         ]
        },
        {
         "color": "cyan",
         "i": [
          0
         ],
         "j": [
          1
         ],
         "k": [
          2
         ],
         "name": "Triangle",
         "opacity": 0.4,
         "scene": "scene2",
         "type": "mesh3d",
         "x": [
          0.16061444517850806,
          -0.08929458358530694,
          0
         ],
         "y": [
          -1.1102230246251563e-16,
          0.13992668559758906,
          0
         ],
         "z": [
          0,
          1.1102230246251563e-16,
          0
         ]
        },
        {
         "line": {
          "color": "red",
          "width": 6
         },
         "mode": "lines",
         "name": "Normal",
         "opacity": 0.5,
         "scene": "scene2",
         "type": "scatter3d",
         "x": [
          0.02377328719773371,
          0.02377328719773371
         ],
         "y": [
          0.046642228532529646,
          0.046642228532528855
         ],
         "z": [
          3.7007434154171876e-17,
          1
         ]
        },
        {
         "line": {
          "color": "black"
         },
         "mode": "lines",
         "scene": "scene2",
         "showlegend": false,
         "type": "scatter3d",
         "x": [
          0,
          1.5
         ],
         "y": [
          0,
          0
         ],
         "z": [
          0,
          0
         ]
        },
        {
         "line": {
          "color": "black"
         },
         "mode": "lines",
         "scene": "scene2",
         "showlegend": false,
         "type": "scatter3d",
         "x": [
          0,
          0
         ],
         "y": [
          0,
          1.5
         ],
         "z": [
          0,
          0
         ]
        },
        {
         "line": {
          "color": "black"
         },
         "mode": "lines",
         "scene": "scene2",
         "showlegend": false,
         "type": "scatter3d",
         "x": [
          0,
          0
         ],
         "y": [
          0,
          0
         ],
         "z": [
          0,
          1.5
         ]
        }
       ],
       "layout": {
        "height": 600,
        "margin": {
         "b": 0,
         "l": 0,
         "r": 0,
         "t": 30
        },
        "scene": {
         "aspectmode": "data",
         "domain": {
          "x": [
           0,
           0.48
          ]
         },
         "xaxis": {
          "title": {
           "text": "X"
          }
         },
         "yaxis": {
          "title": {
           "text": "Y"
          }
         },
         "zaxis": {
          "title": {
           "text": "Z"
          }
         }
        },
        "scene2": {
         "aspectmode": "data",
         "domain": {
          "x": [
           0.52,
           1
          ]
         },
         "xaxis": {
          "title": {
           "text": "X"
          }
         },
         "yaxis": {
          "title": {
           "text": "Y"
          }
         },
         "zaxis": {
          "title": {
           "text": "Z"
          }
         }
        },
        "template": {
         "data": {
          "bar": [
           {
            "error_x": {
             "color": "#2a3f5f"
            },
            "error_y": {
             "color": "#2a3f5f"
            },
            "marker": {
             "line": {
              "color": "#E5ECF6",
              "width": 0.5
             },
             "pattern": {
              "fillmode": "overlay",
              "size": 10,
              "solidity": 0.2
             }
            },
            "type": "bar"
           }
          ],
          "barpolar": [
           {
            "marker": {
             "line": {
              "color": "#E5ECF6",
              "width": 0.5
             },
             "pattern": {
              "fillmode": "overlay",
              "size": 10,
              "solidity": 0.2
             }
            },
            "type": "barpolar"
           }
          ],
          "carpet": [
           {
            "aaxis": {
             "endlinecolor": "#2a3f5f",
             "gridcolor": "white",
             "linecolor": "white",
             "minorgridcolor": "white",
             "startlinecolor": "#2a3f5f"
            },
            "baxis": {
             "endlinecolor": "#2a3f5f",
             "gridcolor": "white",
             "linecolor": "white",
             "minorgridcolor": "white",
             "startlinecolor": "#2a3f5f"
            },
            "type": "carpet"
           }
          ],
          "choropleth": [
           {
            "colorbar": {
             "outlinewidth": 0,
             "ticks": ""
            },
            "type": "choropleth"
           }
          ],
          "contour": [
           {
            "colorbar": {
             "outlinewidth": 0,
             "ticks": ""
            },
            "colorscale": [
             [
              0,
              "#0d0887"
             ],
             [
              0.1111111111111111,
              "#46039f"
             ],
             [
              0.2222222222222222,
              "#7201a8"
             ],
             [
              0.3333333333333333,
              "#9c179e"
             ],
             [
              0.4444444444444444,
              "#bd3786"
             ],
             [
              0.5555555555555556,
              "#d8576b"
             ],
             [
              0.6666666666666666,
              "#ed7953"
             ],
             [
              0.7777777777777778,
              "#fb9f3a"
             ],
             [
              0.8888888888888888,
              "#fdca26"
             ],
             [
              1,
              "#f0f921"
             ]
            ],
            "type": "contour"
           }
          ],
          "contourcarpet": [
           {
            "colorbar": {
             "outlinewidth": 0,
             "ticks": ""
            },
            "type": "contourcarpet"
           }
          ],
          "heatmap": [
           {
            "colorbar": {
             "outlinewidth": 0,
             "ticks": ""
            },
            "colorscale": [
             [
              0,
              "#0d0887"
             ],
             [
              0.1111111111111111,
              "#46039f"
             ],
             [
              0.2222222222222222,
              "#7201a8"
             ],
             [
              0.3333333333333333,
              "#9c179e"
             ],
             [
              0.4444444444444444,
              "#bd3786"
             ],
             [
              0.5555555555555556,
              "#d8576b"
             ],
             [
              0.6666666666666666,
              "#ed7953"
             ],
             [
              0.7777777777777778,
              "#fb9f3a"
             ],
             [
              0.8888888888888888,
              "#fdca26"
             ],
             [
              1,
              "#f0f921"
             ]
            ],
            "type": "heatmap"
           }
          ],
          "heatmapgl": [
           {
            "colorbar": {
             "outlinewidth": 0,
             "ticks": ""
            },
            "colorscale": [
             [
              0,
              "#0d0887"
             ],
             [
              0.1111111111111111,
              "#46039f"
             ],
             [
              0.2222222222222222,
              "#7201a8"
             ],
             [
              0.3333333333333333,
              "#9c179e"
             ],
             [
              0.4444444444444444,
              "#bd3786"
             ],
             [
              0.5555555555555556,
              "#d8576b"
             ],
             [
              0.6666666666666666,
              "#ed7953"
             ],
             [
              0.7777777777777778,
              "#fb9f3a"
             ],
             [
              0.8888888888888888,
              "#fdca26"
             ],
             [
              1,
              "#f0f921"
             ]
            ],
            "type": "heatmapgl"
           }
          ],
          "histogram": [
           {
            "marker": {
             "pattern": {
              "fillmode": "overlay",
              "size": 10,
              "solidity": 0.2
             }
            },
            "type": "histogram"
           }
          ],
          "histogram2d": [
           {
            "colorbar": {
             "outlinewidth": 0,
             "ticks": ""
            },
            "colorscale": [
             [
              0,
              "#0d0887"
             ],
             [
              0.1111111111111111,
              "#46039f"
             ],
             [
              0.2222222222222222,
              "#7201a8"
             ],
             [
              0.3333333333333333,
              "#9c179e"
             ],
             [
              0.4444444444444444,
              "#bd3786"
             ],
             [
              0.5555555555555556,
              "#d8576b"
             ],
             [
              0.6666666666666666,
              "#ed7953"
             ],
             [
              0.7777777777777778,
              "#fb9f3a"
             ],
             [
              0.8888888888888888,
              "#fdca26"
             ],
             [
              1,
              "#f0f921"
             ]
            ],
            "type": "histogram2d"
           }
          ],
          "histogram2dcontour": [
           {
            "colorbar": {
             "outlinewidth": 0,
             "ticks": ""
            },
            "colorscale": [
             [
              0,
              "#0d0887"
             ],
             [
              0.1111111111111111,
              "#46039f"
             ],
             [
              0.2222222222222222,
              "#7201a8"
             ],
             [
              0.3333333333333333,
              "#9c179e"
             ],
             [
              0.4444444444444444,
              "#bd3786"
             ],
             [
              0.5555555555555556,
              "#d8576b"
             ],
             [
              0.6666666666666666,
              "#ed7953"
             ],
             [
              0.7777777777777778,
              "#fb9f3a"
             ],
             [
              0.8888888888888888,
              "#fdca26"
             ],
             [
              1,
              "#f0f921"
             ]
            ],
            "type": "histogram2dcontour"
           }
          ],
          "mesh3d": [
           {
            "colorbar": {
             "outlinewidth": 0,
             "ticks": ""
            },
            "type": "mesh3d"
           }
          ],
          "parcoords": [
           {
            "line": {
             "colorbar": {
              "outlinewidth": 0,
              "ticks": ""
             }
            },
            "type": "parcoords"
           }
          ],
          "pie": [
           {
            "automargin": true,
            "type": "pie"
           }
          ],
          "scatter": [
           {
            "fillpattern": {
             "fillmode": "overlay",
             "size": 10,
             "solidity": 0.2
            },
            "type": "scatter"
           }
          ],
          "scatter3d": [
           {
            "line": {
             "colorbar": {
              "outlinewidth": 0,
              "ticks": ""
             }
            },
            "marker": {
             "colorbar": {
              "outlinewidth": 0,
              "ticks": ""
             }
            },
            "type": "scatter3d"
           }
          ],
          "scattercarpet": [
           {
            "marker": {
             "colorbar": {
              "outlinewidth": 0,
              "ticks": ""
             }
            },
            "type": "scattercarpet"
           }
          ],
          "scattergeo": [
           {
            "marker": {
             "colorbar": {
              "outlinewidth": 0,
              "ticks": ""
             }
            },
            "type": "scattergeo"
           }
          ],
          "scattergl": [
           {
            "marker": {
             "colorbar": {
              "outlinewidth": 0,
              "ticks": ""
             }
            },
            "type": "scattergl"
           }
          ],
          "scattermapbox": [
           {
            "marker": {
             "colorbar": {
              "outlinewidth": 0,
              "ticks": ""
             }
            },
            "type": "scattermapbox"
           }
          ],
          "scatterpolar": [
           {
            "marker": {
             "colorbar": {
              "outlinewidth": 0,
              "ticks": ""
             }
            },
            "type": "scatterpolar"
           }
          ],
          "scatterpolargl": [
           {
            "marker": {
             "colorbar": {
              "outlinewidth": 0,
              "ticks": ""
             }
            },
            "type": "scatterpolargl"
           }
          ],
          "scatterternary": [
           {
            "marker": {
             "colorbar": {
              "outlinewidth": 0,
              "ticks": ""
             }
            },
            "type": "scatterternary"
           }
          ],
          "surface": [
           {
            "colorbar": {
             "outlinewidth": 0,
             "ticks": ""
            },
            "colorscale": [
             [
              0,
              "#0d0887"
             ],
             [
              0.1111111111111111,
              "#46039f"
             ],
             [
              0.2222222222222222,
              "#7201a8"
             ],
             [
              0.3333333333333333,
              "#9c179e"
             ],
             [
              0.4444444444444444,
              "#bd3786"
             ],
             [
              0.5555555555555556,
              "#d8576b"
             ],
             [
              0.6666666666666666,
              "#ed7953"
             ],
             [
              0.7777777777777778,
              "#fb9f3a"
             ],
             [
              0.8888888888888888,
              "#fdca26"
             ],
             [
              1,
              "#f0f921"
             ]
            ],
            "type": "surface"
           }
          ],
          "table": [
           {
            "cells": {
             "fill": {
              "color": "#EBF0F8"
             },
             "line": {
              "color": "white"
             }
            },
            "header": {
             "fill": {
              "color": "#C8D4E3"
             },
             "line": {
              "color": "white"
             }
            },
            "type": "table"
           }
          ]
         },
         "layout": {
          "annotationdefaults": {
           "arrowcolor": "#2a3f5f",
           "arrowhead": 0,
           "arrowwidth": 1
          },
          "autotypenumbers": "strict",
          "coloraxis": {
           "colorbar": {
            "outlinewidth": 0,
            "ticks": ""
           }
          },
          "colorscale": {
           "diverging": [
            [
             0,
             "#8e0152"
            ],
            [
             0.1,
             "#c51b7d"
            ],
            [
             0.2,
             "#de77ae"
            ],
            [
             0.3,
             "#f1b6da"
            ],
            [
             0.4,
             "#fde0ef"
            ],
            [
             0.5,
             "#f7f7f7"
            ],
            [
             0.6,
             "#e6f5d0"
            ],
            [
             0.7,
             "#b8e186"
            ],
            [
             0.8,
             "#7fbc41"
            ],
            [
             0.9,
             "#4d9221"
            ],
            [
             1,
             "#276419"
            ]
           ],
           "sequential": [
            [
             0,
             "#0d0887"
            ],
            [
             0.1111111111111111,
             "#46039f"
            ],
            [
             0.2222222222222222,
             "#7201a8"
            ],
            [
             0.3333333333333333,
             "#9c179e"
            ],
            [
             0.4444444444444444,
             "#bd3786"
            ],
            [
             0.5555555555555556,
             "#d8576b"
            ],
            [
             0.6666666666666666,
             "#ed7953"
            ],
            [
             0.7777777777777778,
             "#fb9f3a"
            ],
            [
             0.8888888888888888,
             "#fdca26"
            ],
            [
             1,
             "#f0f921"
            ]
           ],
           "sequentialminus": [
            [
             0,
             "#0d0887"
            ],
            [
             0.1111111111111111,
             "#46039f"
            ],
            [
             0.2222222222222222,
             "#7201a8"
            ],
            [
             0.3333333333333333,
             "#9c179e"
            ],
            [
             0.4444444444444444,
             "#bd3786"
            ],
            [
             0.5555555555555556,
             "#d8576b"
            ],
            [
             0.6666666666666666,
             "#ed7953"
            ],
            [
             0.7777777777777778,
             "#fb9f3a"
            ],
            [
             0.8888888888888888,
             "#fdca26"
            ],
            [
             1,
             "#f0f921"
            ]
           ]
          },
          "colorway": [
           "#636efa",
           "#EF553B",
           "#00cc96",
           "#ab63fa",
           "#FFA15A",
           "#19d3f3",
           "#FF6692",
           "#B6E880",
           "#FF97FF",
           "#FECB52"
          ],
          "font": {
           "color": "#2a3f5f"
          },
          "geo": {
           "bgcolor": "white",
           "lakecolor": "white",
           "landcolor": "#E5ECF6",
           "showlakes": true,
           "showland": true,
           "subunitcolor": "white"
          },
          "hoverlabel": {
           "align": "left"
          },
          "hovermode": "closest",
          "mapbox": {
           "style": "light"
          },
          "paper_bgcolor": "white",
          "plot_bgcolor": "#E5ECF6",
          "polar": {
           "angularaxis": {
            "gridcolor": "white",
            "linecolor": "white",
            "ticks": ""
           },
           "bgcolor": "#E5ECF6",
           "radialaxis": {
            "gridcolor": "white",
            "linecolor": "white",
            "ticks": ""
           }
          },
          "scene": {
           "xaxis": {
            "backgroundcolor": "#E5ECF6",
            "gridcolor": "white",
            "gridwidth": 2,
            "linecolor": "white",
            "showbackground": true,
            "ticks": "",
            "zerolinecolor": "white"
           },
           "yaxis": {
            "backgroundcolor": "#E5ECF6",
            "gridcolor": "white",
            "gridwidth": 2,
            "linecolor": "white",
            "showbackground": true,
            "ticks": "",
            "zerolinecolor": "white"
           },
           "zaxis": {
            "backgroundcolor": "#E5ECF6",
            "gridcolor": "white",
            "gridwidth": 2,
            "linecolor": "white",
            "showbackground": true,
            "ticks": "",
            "zerolinecolor": "white"
           }
          },
          "shapedefaults": {
           "line": {
            "color": "#2a3f5f"
           }
          },
          "ternary": {
           "aaxis": {
            "gridcolor": "white",
            "linecolor": "white",
            "ticks": ""
           },
           "baxis": {
            "gridcolor": "white",
            "linecolor": "white",
            "ticks": ""
           },
           "bgcolor": "#E5ECF6",
           "caxis": {
            "gridcolor": "white",
            "linecolor": "white",
            "ticks": ""
           }
          },
          "title": {
           "x": 0.05
          },
          "xaxis": {
           "automargin": true,
           "gridcolor": "white",
           "linecolor": "white",
           "ticks": "",
           "title": {
            "standoff": 15
           },
           "zerolinecolor": "white",
           "zerolinewidth": 2
          },
          "yaxis": {
           "automargin": true,
           "gridcolor": "white",
           "linecolor": "white",
           "ticks": "",
           "title": {
            "standoff": 15
           },
           "zerolinecolor": "white",
           "zerolinewidth": 2
          }
         }
        },
        "title": {
         "text": "Before vs After Alignment (Interactive)"
        }
       }
      }
     },
     "metadata": {},
     "output_type": "display_data"
    }
   ],
   "source": [
    "import numpy as np\n",
    "'''coords[0]은 40 x 3 리스트. 이때 0,1 ,12번 인덱스 위치를 가지고 평면벡터를 만들거야 그리고 그 평면벡터를 xy 평면으로 놓이게끔할거고\n",
    "이떄 12번 원자->1번원자 벡터가 x축과평행하며 12번원자는 원점에 놓일거야\n",
    "전체 시스템을 돌리고 평행이동시켜서 align시키는 코드 '''\n",
    "import matplotlib.pyplot as plt\n",
    "from mpl_toolkits.mplot3d import Axes3D\n",
    "import plotly.graph_objects as go\n",
    "import pandas as pd \n",
    "def rotation_matrix_from_vectors(a, b):\n",
    "    a = a / np.linalg.norm(a)\n",
    "    b = b / np.linalg.norm(b)\n",
    "    v = np.cross(a, b)\n",
    "    c = np.dot(a, b)\n",
    "    if np.isclose(c, -1.0):\n",
    "        return -np.eye(3)  # 180도 회전\n",
    "    if np.isclose(c, 1.0):\n",
    "        return np.eye(3)  # 동일\n",
    "    vx = np.array([\n",
    "        [0, -v[2], v[1]],\n",
    "        [v[2], 0, -v[0]],\n",
    "        [-v[1], v[0], 0]\n",
    "    ])\n",
    "    R = np.eye(3) + vx + vx @ vx * ((1 - c) / (np.linalg.norm(v) ** 2))\n",
    "    return R\n",
    "def align_frame(frame_coords):\n",
    "    coords = np.array(frame_coords)  # (40, 3)\n",
    "\n",
    "    # 기준점 추출\n",
    "    p0 = coords[0]\n",
    "    p1 = coords[1]\n",
    "    p12 = coords[12]\n",
    "\n",
    "    # 평면 법선벡터 (0-12-1)\n",
    "    v1 = p0 - p12\n",
    "    v2 = p1 - p12\n",
    "    normal = np.cross(v1, v2)\n",
    "    normal /= np.linalg.norm(normal)\n",
    "\n",
    "    # 1단계 회전: 평면 normal → z축\n",
    "    R1 = rotation_matrix_from_vectors(normal, np.array([0, 0, 1]))\n",
    "    coords_rot1 = coords @ R1.T\n",
    "\n",
    "    # 2단계 회전: xy 평면에 투영된 (0-12) → x축\n",
    "    new_p0 = coords_rot1[0]\n",
    "    new_p12 = coords_rot1[12]\n",
    "    vec = new_p0 - new_p12\n",
    "    vec_xy = np.array([vec[0], vec[1], 0.0])\n",
    "    if np.linalg.norm(vec_xy) < 1e-8:\n",
    "        raise ValueError(\"12→0 벡터의 xy 성분이 거의 0입니다. 회전 정의가 불가능합니다.\")\n",
    "    vec_xy /= np.linalg.norm(vec_xy)\n",
    "    R2 = rotation_matrix_from_vectors(vec_xy, np.array([1, 0, 0]))\n",
    "    coords_rot2 = coords_rot1 @ R2.T\n",
    "\n",
    "    # 평행이동\n",
    "    coords_aligned = coords_rot2 - coords_rot2[12]\n",
    "\n",
    "    # ✅ 리스케일: 원본과 정렬된 좌표계에서의 기준 거리 비교\n",
    "    d_original = np.linalg.norm(p0 - p12)\n",
    "    d_aligned = np.linalg.norm(coords_aligned[0] - coords_aligned[12])\n",
    "    scale_factor = d_original / d_aligned\n",
    "    coords_scaled = coords_aligned * scale_factor\n",
    "\n",
    "    return coords_scaled, coords, [p0, p1, p12], normal\n",
    "def plot_before_after_mpl(original, aligned, triangle_pts, normal_vec):\n",
    "    fig = plt.figure(figsize=(14, 6))\n",
    "    tri = np.array(triangle_pts)\n",
    "    center = np.mean(tri, axis=0)\n",
    "    axis_len = 1.5\n",
    "\n",
    "    # ▶️ 원본 좌표계\n",
    "    ax1 = fig.add_subplot(121, projection='3d')\n",
    "    ax1.set_title(\"Before Alignment\")\n",
    "    original = np.array(original)\n",
    "\n",
    "    # 음이온 (0~14), 양이온 (15~)\n",
    "    ax1.scatter(*original[:15].T, color='#1f77b4', s=20, label='Anion')\n",
    "    ax1.scatter(*original[15:].T, color='#ff7f0e', s=20, label='Cation')\n",
    "\n",
    "    # 삼각형 평면 영역 색칠\n",
    "    ax1.plot_trisurf(tri[:, 0], tri[:, 1], tri[:, 2], color='cyan', alpha=0.4)\n",
    "\n",
    "    # 법선 벡터 (빨간색)\n",
    "    ax1.quiver(*center, *normal_vec, length=1.0, color='red', linewidth=2)\n",
    "\n",
    "    ax1.legend()\n",
    "\n",
    "    # ▶️ 정렬된 좌표계\n",
    "    ax2 = fig.add_subplot(122, projection='3d')\n",
    "    ax2.set_title(\"After Alignment\")\n",
    "    aligned = np.array(aligned)\n",
    "\n",
    "    # 음이온 / 양이온 구분 시각화\n",
    "    ax2.scatter(*aligned[:15].T, color='#1f77b4', s=20, label='Anion')\n",
    "    ax2.scatter(*aligned[15:].T, color='#ff7f0e', s=20, label='Cation')\n",
    "\n",
    "    # 정렬된 평면 및 법선벡터 다시 계산\n",
    "    tri_aligned = aligned[[0, 1, 12]]\n",
    "    center_aligned = np.mean(tri_aligned, axis=0)\n",
    "    v1 = tri_aligned[0] - tri_aligned[2]\n",
    "    v2 = tri_aligned[1] - tri_aligned[2]\n",
    "    normal_aligned = np.cross(v1, v2)\n",
    "    normal_aligned /= np.linalg.norm(normal_aligned)\n",
    "\n",
    "    # 삼각형 평면 영역 색칠\n",
    "    ax2.plot_trisurf(tri_aligned[:, 0], tri_aligned[:, 1], tri_aligned[:, 2], color='cyan', alpha=0.4)\n",
    "\n",
    "    # xyz 축 (검정)\n",
    "    ax2.plot([0, axis_len], [0, 0], [0, 0], 'k')  # x\n",
    "    ax2.plot([0, 0], [0, axis_len], [0, 0], 'k')  # y\n",
    "    ax2.plot([0, 0], [0, 0], [0, axis_len], 'k')  # z\n",
    "\n",
    "    # 법선 벡터 (빨간색)\n",
    "    ax2.quiver(*center_aligned, *normal_aligned, length=1.0, color='red', linewidth=2)\n",
    "\n",
    "    ax2.legend()\n",
    "    plt.tight_layout()\n",
    "    plt.show()\n",
    "def plot_before_after_plotly(original, aligned, triangle_pts, normal_vec, html = False):\n",
    "    original = np.array(original)\n",
    "    aligned = np.array(aligned)\n",
    "    tri = np.array(triangle_pts)\n",
    "    center = np.mean(tri, axis=0)\n",
    "\n",
    "    ## ---------- 공통 요소 ----------\n",
    "    def mesh_triangle(tri_coords):\n",
    "        return go.Mesh3d(\n",
    "            x=tri_coords[:, 0], y=tri_coords[:, 1], z=tri_coords[:, 2],\n",
    "            color='cyan', opacity=0.4,\n",
    "            i=[0], j=[1], k=[2],\n",
    "            name='Triangle'\n",
    "        )\n",
    "\n",
    "    def normal_arrow_line(center, vector, length=1.0, opacity=0.5):\n",
    "        end = center + vector / np.linalg.norm(vector) * length\n",
    "        return go.Scatter3d(\n",
    "            x=[center[0], end[0]],\n",
    "            y=[center[1], end[1]],\n",
    "            z=[center[2], end[2]],\n",
    "            mode='lines',\n",
    "            line=dict(color='red', width=6),\n",
    "            opacity=opacity,\n",
    "            name='Normal'\n",
    "    )\n",
    "\n",
    "    def axis_lines():\n",
    "        axis_len = 1.5\n",
    "        return [\n",
    "            go.Scatter3d(x=[0, axis_len], y=[0, 0], z=[0, 0], mode='lines', line=dict(color='black'), showlegend=False),\n",
    "            go.Scatter3d(x=[0, 0], y=[0, axis_len], z=[0, 0], mode='lines', line=dict(color='black'), showlegend=False),\n",
    "            go.Scatter3d(x=[0, 0], y=[0, 0], z=[0, axis_len], mode='lines', line=dict(color='black'), showlegend=False)\n",
    "        ]\n",
    "\n",
    "    ## ---------- Before ----------\n",
    "    trace_before_anion = go.Scatter3d(\n",
    "        x=original[:15, 0], y=original[:15, 1], z=original[:15, 2],\n",
    "        mode='markers',\n",
    "        marker=dict(color='#1f77b4', size=4),\n",
    "        name='Anion (Before)'\n",
    "    )\n",
    "\n",
    "    trace_before_cation = go.Scatter3d(\n",
    "        x=original[15:, 0], y=original[15:, 1], z=original[15:, 2],\n",
    "        mode='markers',\n",
    "        marker=dict(color='#ff7f0e', size=4),\n",
    "        name='Cation (Before)'\n",
    "    )\n",
    "\n",
    "    trace_before_triangle = mesh_triangle(tri)\n",
    "    # Before scene\n",
    "    trace_before_normal = normal_arrow_line(center, normal_vec, length=1.0, opacity=0.5)\n",
    "\n",
    "        # After scene\n",
    "\n",
    "\n",
    "    ## ---------- After ----------\n",
    "    tri_aligned = aligned[[0, 1, 12]]\n",
    "    center_aligned = np.mean(tri_aligned, axis=0)\n",
    "    v1 = tri_aligned[0] - tri_aligned[2]\n",
    "    v2 = tri_aligned[1] - tri_aligned[2]\n",
    "    normal_aligned = np.cross(v1, v2)\n",
    "    normal_aligned /= np.linalg.norm(normal_aligned)\n",
    "\n",
    "    trace_after_anion = go.Scatter3d(\n",
    "        x=aligned[:15, 0], y=aligned[:15, 1], z=aligned[:15, 2],\n",
    "        mode='markers',\n",
    "        marker=dict(color='#1f77b4', size=4),\n",
    "        name='Anion (After)'\n",
    "    )\n",
    "\n",
    "    trace_after_cation = go.Scatter3d(\n",
    "        x=aligned[15:, 0], y=aligned[15:, 1], z=aligned[15:, 2],\n",
    "        mode='markers',\n",
    "        marker=dict(color='#ff7f0e', size=4),\n",
    "        name='Cation (After)'\n",
    "    )\n",
    "\n",
    "    trace_after_triangle = mesh_triangle(tri_aligned)\n",
    "    trace_after_normal = normal_arrow_line(center_aligned, normal_aligned, length=1.0, opacity=0.5)\n",
    "    trace_after_axes = axis_lines()\n",
    "\n",
    "    ## ---------- Layout ----------\n",
    "    fig = go.Figure()\n",
    "\n",
    "    # 좌: Before\n",
    "    for trace in [trace_before_anion, trace_before_cation, trace_before_triangle, trace_before_normal]:\n",
    "        trace.update(scene='scene')\n",
    "        fig.add_trace(trace)\n",
    "\n",
    "    # 우: After\n",
    "    for trace in [trace_after_anion, trace_after_cation, trace_after_triangle, trace_after_normal] + trace_after_axes:\n",
    "        trace.update(scene='scene2')\n",
    "        fig.add_trace(trace)\n",
    "\n",
    "    fig.update_layout(\n",
    "        scene=dict(\n",
    "            domain=dict(x=[0, 0.48]),  # 왼쪽 그래프 여백 확보\n",
    "            xaxis_title='X', yaxis_title='Y', zaxis_title='Z',\n",
    "            aspectmode='data',\n",
    "        ),\n",
    "        scene2=dict(\n",
    "            domain=dict(x=[0.52, 1.0]),  # 오른쪽 그래프 여백 확보\n",
    "            xaxis_title='X', yaxis_title='Y', zaxis_title='Z',\n",
    "            aspectmode='data',\n",
    "        ),\n",
    "        margin=dict(l=0, r=0, t=30, b=0),\n",
    "        height=600,\n",
    "        title=\"Before vs After Alignment (Interactive)\"\n",
    "    )\n",
    "\n",
    "\n",
    "\n",
    "    if html:\n",
    "        fig.write_html(\"alignment_comparison.html\")\n",
    "    fig.show()\n",
    "\n",
    "with open(\"./coords_xtc_dump.txt\" , \"r\") as f:\n",
    "    data = f.readlines()\n",
    "strt_idxs = [ i for i, d in enumerate(data)  if \"coords.xtc\" in d] \n",
    "trjs = []\n",
    "for i, strt in enumerate(strt_idxs):\n",
    "    try: \n",
    "        trjs.append(data[strt_idxs[i] : strt_idxs[i+1]])\n",
    "    except: \n",
    "        trjs.append(data[strt_idxs[i] : ])\n",
    "boxes = []\n",
    "coords = []\n",
    "for trj in trjs:\n",
    "    box = trj[3:6]\n",
    "    coord = trj[7:]\n",
    "    newcoord = []   \n",
    "    for i in coord:\n",
    "        xyz = [ float(x.strip()) for x in i.split(\"{\")[1].split(\"}\")[0].split(\",\")]\n",
    "        newcoord.append(xyz)\n",
    "    coords.append(newcoord)\n",
    "\n",
    "    newbox = []\n",
    "    for i in box: \n",
    "        boxvec = [ float(x.strip()) for x in i.split(\"{\")[1].split(\"}\")[0].split(\",\")]\n",
    "        newbox.append(boxvec)\n",
    "    boxes.append(newbox)\n",
    "\n",
    "# 예시 좌표 데이터로 실행\n",
    "aligned, original, triangle_pts, normal_vec = align_frame(coords[-1])\n",
    "# 시각화 실행\n",
    "# plot_before_after_mpl(original, aligned, triangle_pts, normal_vec)\n",
    "plot_before_after_plotly(original, aligned, triangle_pts, normal_vec)\n",
    "\n",
    "aligns = []\n",
    "atoms = [\"S\",\"S\",\"F\",\"F\",\"F\",\"F\",\"F\",\"F\",\"O\",\"O\",\"O\",\"O\",\"N\",\"C\",\"C\",\"N\",\"N\",\"C\",\"C\",\"C\",\"C\",\"C\",\"C\",\"C\",\"C\",\"H\",\"H\",\"H\",\"H\",\"H\",\"H\",\"H\",\"H\",\"H\",\"H\",\"H\",\"H\",\"H\",\"H\",\"H\" ]\n",
    "xyzfiles = []\n",
    "for c in coords: \n",
    "    xyzfile = f'''{len(atoms)}\\n\\n'''\n",
    "    aligned, original, triangle_pts, normal_vec = align_frame(c)\n",
    "    aligns.append(aligned)\n",
    "    for atom, line in zip ( atoms, aligned): \n",
    "        xyz_ = ' '.join([f\"{x*10:.6f}\" for x in line])\n",
    "        xyzfile+=f\"{atom} {xyz_}\\n\"\n",
    "    xyzfiles.append(xyzfile)\n",
    "# print(xyzfile)\n",
    "integrated_xyz = ''.join(xyzfiles)\n",
    "with open( \"integrated_xyz.xyz\" , 'w') as f:\n",
    "    f.write(integrated_xyz)"
   ]
  },
  {
   "cell_type": "code",
   "execution_count": null,
   "id": "fbac1222",
   "metadata": {},
   "outputs": [
    {
     "data": {
      "text/plain": [
       "'S 5.307348 0.952179 2.930735\\nS 2.519657 1.267782 3.507429\\nF 6.461616 0.185239 5.088713\\nF 4.900412 -1.112827 4.370684\\nF 6.868050 -1.081607 3.367227\\nF 0.526510 0.948522 5.249047\\nF 2.638943 0.499446 6.046076\\nF 1.867179 2.573157 5.745903\\nO 6.433663 1.855071 2.842409\\nO 4.810588 0.296986 1.752410\\nO 2.333040 -0.156612 3.087814\\nO 1.885503 2.297160 2.716714\\nN 4.111689 1.693910 3.705291\\nC 5.918795 -0.346043 3.987358\\nC 1.851442 1.331326 5.286656\\nN 1.391618 0.000000 -0.000000\\nN 0.744026 2.131234 0.025822\\nC 2.203694 -1.235933 -0.168232\\nC 2.560976 -1.645741 -1.633260\\nC 3.363639 -2.941645 -1.893767\\nC 1.800063 1.336552 0.000000\\nC 0.000000 0.000000 -0.000000\\nC -0.404565 1.332864 -0.047960\\nC 2.645338 -4.335989 -1.626279\\nC 0.759045 3.638744 0.055634\\nH 1.684514 -2.008625 0.399923\\nH 3.158770 -1.098936 0.359464\\nH 1.558618 -1.903263 -1.996522\\nH 3.003986 -0.916960 -2.330913\\nH 4.273515 -2.873736 -1.301388\\nH 3.815487 -2.925900 -2.890755\\nH 2.820602 1.669323 0.134774\\nH -0.569769 -0.926474 0.017616\\nH -1.347137 1.860632 -0.013044\\nH 2.571971 -4.568403 -0.560680\\nH 1.666909 -4.426943 -2.105656\\nH 3.314344 -5.108613 -2.025758\\nH 1.751271 4.001565 -0.234792\\nH 0.703713 3.885199 1.128946\\nH -0.092051 4.133170 -0.412958\\n'"
      ]
     },
     "execution_count": 73,
     "metadata": {},
     "output_type": "execute_result"
    }
   ],
   "source": [
    "with open(\"./integrated_xyz.xyz\", 'r')  as f:\n",
    "    data =f.read().split(\"\\n\\n\")[-1]\n",
    "data"
   ]
  },
  {
   "cell_type": "code",
   "execution_count": 67,
   "id": "6685b6ce",
   "metadata": {},
   "outputs": [
    {
     "name": "stdout",
     "output_type": "stream",
     "text": [
      "40\n",
      "\n",
      "S 0.157258 0.000000 0.000000\n",
      "S -0.079945 0.142477 0.000000\n",
      "F 0.337535 -0.055726 -0.200551\n",
      "F 0.164342 0.083033 -0.254699\n",
      "F 0.128541 -0.129605 -0.242565\n",
      "F -0.298720 -0.003483 -0.008329\n",
      "F -0.237470 0.094081 -0.200474\n",
      "F -0.328111 0.209304 -0.035984\n",
      "O 0.213783 0.121801 0.045104\n",
      "O 0.200683 -0.123011 0.063438\n",
      "O -0.105546 0.179994 0.140353\n",
      "O -0.018893 0.231873 -0.097852\n",
      "N 0.000000 0.000000 0.000000\n",
      "C 0.203627 -0.028615 -0.187294\n",
      "C -0.246195 0.108073 -0.067383\n",
      "N 0.096676 -0.120765 0.342512\n",
      "N 0.162478 0.083953 0.391191\n",
      "C 0.014638 -0.235137 0.290341\n",
      "C -0.089604 -0.281255 0.401407\n",
      "C -0.220091 -0.192551 0.417249\n",
      "C 0.052233 0.010709 0.360415\n",
      "C 0.233432 -0.118989 0.362922\n",
      "C 0.276082 0.004684 0.397257\n",
      "C -0.333275 -0.262931 0.497730\n",
      "C 0.166040 0.234845 0.402806\n",
      "H -0.022314 -0.211766 0.189355\n",
      "H 0.084117 -0.319042 0.276495\n",
      "H -0.032399 -0.294216 0.493708\n",
      "H -0.135529 -0.378656 0.382173\n",
      "H -0.194388 -0.102201 0.472641\n",
      "H -0.273704 -0.186151 0.321778\n",
      "H -0.035979 0.038846 0.303459\n",
      "H 0.286536 -0.212384 0.352365\n",
      "H 0.372688 0.048861 0.420682\n",
      "H -0.314058 -0.279676 0.604334\n",
      "H -0.353153 -0.361376 0.454970\n",
      "H -0.416946 -0.193538 0.483883\n",
      "H 0.069853 0.283894 0.385018\n",
      "H 0.223035 0.272033 0.488867\n",
      "H 0.202311 0.259724 0.302824\n",
      "\n"
     ]
    }
   ],
   "source": [
    "print(xyzfiles[0])"
   ]
  },
  {
   "cell_type": "code",
   "execution_count": null,
   "id": "eb0ce6de",
   "metadata": {},
   "outputs": [
    {
     "data": {
      "text/plain": [
       "'0.160614 -0.000000 0.000000'"
      ]
     },
     "execution_count": 47,
     "metadata": {},
     "output_type": "execute_result"
    }
   ],
   "source": [
    "\n"
   ]
  }
 ],
 "metadata": {
  "kernelspec": {
   "display_name": "base",
   "language": "python",
   "name": "python3"
  },
  "language_info": {
   "codemirror_mode": {
    "name": "ipython",
    "version": 3
   },
   "file_extension": ".py",
   "mimetype": "text/x-python",
   "name": "python",
   "nbconvert_exporter": "python",
   "pygments_lexer": "ipython3",
   "version": "3.11.7"
  }
 },
 "nbformat": 4,
 "nbformat_minor": 5
}
